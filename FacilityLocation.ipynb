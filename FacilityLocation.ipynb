{
  "nbformat": 4,
  "nbformat_minor": 0,
  "metadata": {
    "colab": {
      "provenance": [],
      "gpuType": "V28"
    },
    "kernelspec": {
      "name": "python3",
      "display_name": "Python 3"
    },
    "language_info": {
      "name": "python"
    },
    "accelerator": "TPU"
  },
  "cells": [
    {
      "cell_type": "markdown",
      "source": [
        "## **Importing Libraries**"
      ],
      "metadata": {
        "id": "rrvEIAm4DonG"
      }
    },
    {
      "cell_type": "code",
      "source": [
        "print('Importing Libraries ...')\n",
        "import pandas as pd\n",
        "import os\n",
        "import matplotlib.pyplot as plt\n",
        "import seaborn as sns\n",
        "import numpy as np\n",
        "import folium\n",
        "from folium.plugins import MarkerCluster\n",
        "import geopandas as gpd"
      ],
      "metadata": {
        "id": "Ql7U6SO9Dmbj",
        "colab": {
          "base_uri": "https://localhost:8080/",
          "height": 402
        },
        "outputId": "72ab40a5-baa6-42ab-f97c-0b084b67b1ac"
      },
      "execution_count": 2,
      "outputs": [
        {
          "output_type": "stream",
          "name": "stdout",
          "text": [
            "Importing Libraries ...\n"
          ]
        },
        {
          "output_type": "error",
          "ename": "ModuleNotFoundError",
          "evalue": "No module named 'folium'",
          "traceback": [
            "\u001b[0;31m---------------------------------------------------------------------------\u001b[0m",
            "\u001b[0;31mModuleNotFoundError\u001b[0m                       Traceback (most recent call last)",
            "\u001b[0;32m<ipython-input-2-3ce67420b4e5>\u001b[0m in \u001b[0;36m<cell line: 7>\u001b[0;34m()\u001b[0m\n\u001b[1;32m      5\u001b[0m \u001b[0;32mimport\u001b[0m \u001b[0mseaborn\u001b[0m \u001b[0;32mas\u001b[0m \u001b[0msns\u001b[0m\u001b[0;34m\u001b[0m\u001b[0;34m\u001b[0m\u001b[0m\n\u001b[1;32m      6\u001b[0m \u001b[0;32mimport\u001b[0m \u001b[0mnumpy\u001b[0m \u001b[0;32mas\u001b[0m \u001b[0mnp\u001b[0m\u001b[0;34m\u001b[0m\u001b[0;34m\u001b[0m\u001b[0m\n\u001b[0;32m----> 7\u001b[0;31m \u001b[0;32mimport\u001b[0m \u001b[0mfolium\u001b[0m\u001b[0;34m\u001b[0m\u001b[0;34m\u001b[0m\u001b[0m\n\u001b[0m\u001b[1;32m      8\u001b[0m \u001b[0;32mfrom\u001b[0m \u001b[0mfolium\u001b[0m\u001b[0;34m.\u001b[0m\u001b[0mplugins\u001b[0m \u001b[0;32mimport\u001b[0m \u001b[0mMarkerCluster\u001b[0m\u001b[0;34m\u001b[0m\u001b[0;34m\u001b[0m\u001b[0m\n\u001b[1;32m      9\u001b[0m \u001b[0;32mimport\u001b[0m \u001b[0mgeopandas\u001b[0m \u001b[0;32mas\u001b[0m \u001b[0mgpd\u001b[0m\u001b[0;34m\u001b[0m\u001b[0;34m\u001b[0m\u001b[0m\n",
            "\u001b[0;31mModuleNotFoundError\u001b[0m: No module named 'folium'",
            "",
            "\u001b[0;31m---------------------------------------------------------------------------\u001b[0;32m\nNOTE: If your import is failing due to a missing package, you can\nmanually install dependencies using either !pip or !apt.\n\nTo view examples of installing some common dependencies, click the\n\"Open Examples\" button below.\n\u001b[0;31m---------------------------------------------------------------------------\u001b[0m\n"
          ],
          "errorDetails": {
            "actions": [
              {
                "action": "open_url",
                "actionText": "Open Examples",
                "url": "/notebooks/snippets/importing_libraries.ipynb"
              }
            ]
          }
        }
      ]
    },
    {
      "cell_type": "code",
      "source": [
        "#from google.colab import drive\n",
        "#drive.mount('/content/drive/MyDrive')\n",
        "os.chdir('/content/drive/MyDrive/FacilityLocation/Data/MapData')"
      ],
      "metadata": {
        "id": "mENzzJ6r00ss"
      },
      "execution_count": null,
      "outputs": []
    },
    {
      "cell_type": "code",
      "source": [
        "india_map = gpd.read_file('gadm41_IND_0.shp')\n",
        "\n",
        "# Plot the India map\n",
        "india_map.plot(color='lightblue', edgecolor='grey')\n",
        "\n",
        "# Add title and show the plot\n",
        "plt.title('India Map')\n",
        "plt.show()\n"
      ],
      "metadata": {
        "id": "m1xD2YSekepu"
      },
      "execution_count": null,
      "outputs": []
    },
    {
      "cell_type": "markdown",
      "source": [
        "##**Reading csv File**"
      ],
      "metadata": {
        "id": "-jY7y_9KDzT6"
      }
    },
    {
      "cell_type": "code",
      "source": [],
      "metadata": {
        "id": "e7G-JU_VAjE-"
      },
      "execution_count": null,
      "outputs": []
    },
    {
      "cell_type": "code",
      "source": [
        "print('Reading HSN Master Data File ...')\n",
        "dtypes = {'HSN_CODE': str}\n",
        "df_hsn = pd.read_csv('HSN_CHAPTER.csv', dtype=dtypes, encoding='latin-1')"
      ],
      "metadata": {
        "colab": {
          "base_uri": "https://localhost:8080/"
        },
        "id": "ES_inkXJv5_2",
        "outputId": "7a684cf5-2f70-4f15-b01a-c868f0313594"
      },
      "execution_count": null,
      "outputs": [
        {
          "output_type": "stream",
          "name": "stdout",
          "text": [
            "Reading HSN Master Data File ...\n"
          ]
        }
      ]
    },
    {
      "cell_type": "code",
      "source": [
        "print('Reading Transaction Data File ...')\n",
        "dtypes = {'START_PIN': str, 'DEST_PIN':str, 'START_STATECODE': str,'DEST_STATECODE': str,'MTH':str,'DISTANCE':int,'MODE':str,'HSN':str,'QTY':float,'UQC':str,'AMOUNT':float,'TAX':float,'EWBS_CNT':int,'SUPP_CNT':int, 'DISTANCERANGE':str}\n",
        "\n",
        "df = pd.read_csv('eway_final_part.csv', dtype=dtypes, encoding='latin-1',low_memory=False)\n",
        "#df = pd.read_csv(r'E:\\FacilityLocation\\DATA\\eway_final.csv',dtype=dtypes, encoding='latin-1')"
      ],
      "metadata": {
        "id": "QPXr1mT6Id30"
      },
      "execution_count": null,
      "outputs": []
    },
    {
      "cell_type": "code",
      "source": [
        "df['HSN_CHAPTER']=df['HSN'].str[0:2]"
      ],
      "metadata": {
        "id": "s2jHYynnEjtc"
      },
      "execution_count": null,
      "outputs": []
    },
    {
      "cell_type": "code",
      "source": [
        "# Define the desired order of modes\n",
        "mode_order = ['Multi Modal','Air', 'Ship','Rail','Road']\n",
        "\n",
        "# Define the distance slab order\n",
        "#dist_slab_order = ['Upto 200 Km.','Between 200 and 500 Km.', 'Between 500 and 1000 Km.','Between 1000 and 2000 Km.','More than 2000 Km.']\n",
        "\n",
        "# Define a dictionary of colors for each mode\n",
        "mode_colors = {\n",
        "    'Road': 'red',\n",
        "    'Rail': 'green',\n",
        "    'Air': 'orange',\n",
        "    'Ship': 'blue',\n",
        "    'Multi Modal': 'purple'\n",
        "}"
      ],
      "metadata": {
        "id": "v1smXZcwHWx6"
      },
      "execution_count": null,
      "outputs": []
    },
    {
      "cell_type": "code",
      "source": [
        "# Define the function to categorize distance slabs\n",
        "def categorize_distance(dist_range):\n",
        "    if dist_range == 'Upto 200 Km.':\n",
        "        return 'SLAB 0: Upto 200 Km.)'\n",
        "    elif dist_range == 'Between 200 and 500 Km.':\n",
        "        return 'SLAB 1: Between 200 and 500 Km.'\n",
        "    elif dist_range == 'Between 500 and 1000 Km.':\n",
        "        return 'SLAB 2: Between 500 and 1000 Km.'\n",
        "    elif dist_range == 'Between 1000 and 2000 Km.':\n",
        "        return 'SLAB 3: Between 1000 and 2000 Km.'\n",
        "    elif dist_range == 'More than 2000 Km.':\n",
        "        return 'SLAB 4: More than 2000 Km.'\n",
        "    else:\n",
        "        return 'SLAB -1: Invalid data'"
      ],
      "metadata": {
        "id": "TpVCJ-lVNskY"
      },
      "execution_count": null,
      "outputs": []
    },
    {
      "cell_type": "markdown",
      "source": [
        "##**Data Exploration**"
      ],
      "metadata": {
        "id": "sG0Bg1boD-G3"
      }
    },
    {
      "cell_type": "code",
      "source": [
        "# Shape of Data\n",
        "print(\"Shape of Data\")\n",
        "print(df.shape)"
      ],
      "metadata": {
        "id": "YtCIOs5bh85S"
      },
      "execution_count": null,
      "outputs": []
    },
    {
      "cell_type": "code",
      "source": [
        "# Data Structure\n",
        "print(\"Data Structure\")\n",
        "print(df.info())"
      ],
      "metadata": {
        "id": "4WPW21fkDoWW"
      },
      "execution_count": null,
      "outputs": []
    },
    {
      "cell_type": "code",
      "source": [
        "#  Data\n",
        "print(\"Sample Data ...\")\n",
        "print(df.head(5))"
      ],
      "metadata": {
        "id": "ybE0ooACJ_5d"
      },
      "execution_count": null,
      "outputs": []
    },
    {
      "cell_type": "code",
      "source": [
        "# Check for missing values\n",
        "print(\"\\nMissing values:\")\n",
        "print(df.isnull().sum())"
      ],
      "metadata": {
        "id": "Rvn6MaUqScJa"
      },
      "execution_count": null,
      "outputs": []
    },
    {
      "cell_type": "code",
      "source": [
        "print(\"\\nUnique values in categorical columns:\")\n",
        "for column in df.select_dtypes(include=['object']).columns:\n",
        "    print(f\"{column}: {df[column].nunique()} unique values\")"
      ],
      "metadata": {
        "id": "LgqymV2JTAvO"
      },
      "execution_count": null,
      "outputs": []
    },
    {
      "cell_type": "code",
      "source": [
        "#Summary statistics\n",
        "print(\"Summary Statistics ...\")\n",
        "print(df.describe())"
      ],
      "metadata": {
        "id": "03nkIbrSjb6o"
      },
      "execution_count": null,
      "outputs": []
    },
    {
      "cell_type": "markdown",
      "source": [
        "##**Distribution of Columns**\n",
        "\n",
        "\n"
      ],
      "metadata": {
        "id": "DmcTjXalDM-d"
      }
    },
    {
      "cell_type": "code",
      "source": [
        "# Distribution of numerical columns\n",
        "print(\"Distribution of Numerical Columns\")\n",
        "numerical_columns=['DISTANCE','QTY','AMOUNT','TAX','EWBS_CNT','SUPP_CNT']\n",
        "for column in numerical_columns:\n",
        "    plt.figure(figsize=(8, 6))\n",
        "    df[column].hist(color='skyblue')\n",
        "    plt.title(column)\n",
        "    plt.xlabel('Value')\n",
        "    plt.ylabel('Frequency')\n",
        "    plt.grid(False)\n",
        "    plt.show()"
      ],
      "metadata": {
        "id": "Luef82asTnkj"
      },
      "execution_count": null,
      "outputs": []
    },
    {
      "cell_type": "code",
      "source": [
        "# Distribution of categorical columns\n",
        "categorical_columns=['MTH','MODE', 'START_STATE','DEST_STATE']\n",
        "for column in categorical_columns:\n",
        "    grouped = df.groupby(column)['AMOUNT'].count().reset_index()\n",
        "    grouped.sort_values('AMOUNT',ascending=False,inplace=True)\n",
        "    if ((column == 'START_STATE') or (column == 'DEST_STATE')):\n",
        "        grouped[column]=grouped[column].replace(['THE DADRA AND NAGAR HAVELI AND DAMAN AND DIU','ANDAMAN AND NICOBAR ISLANDS'],['DADRA,N H& DIU','A&N ISLANDS'])\n",
        "    plt.figure(figsize=(8, 6))\n",
        "    plt.bar(grouped[column], grouped['AMOUNT'])\n",
        "    plt.title(column)\n",
        "    plt.xlabel('Category')\n",
        "    plt.ylabel('Frequency')\n",
        "    plt.xticks(rotation=90)\n",
        "    plt.grid(False)\n",
        "    plt.show()"
      ],
      "metadata": {
        "id": "-tSnne7N1NjU"
      },
      "execution_count": null,
      "outputs": []
    },
    {
      "cell_type": "code",
      "source": [
        "# Correlation between numerical columns\n",
        "print(\"Correlation between numerical columns\")\n",
        "numerical_columns=['DISTANCE','QTY','AMOUNT','TAX','EWBS_CNT','SUPP_CNT']\n",
        "correlation_matrix = df[numerical_columns].corr()\n",
        "\n",
        "plt.figure(figsize=(8, 6))\n",
        "sns.heatmap(correlation_matrix, annot=True, cmap='coolwarm')\n",
        "plt.title('Correlation Matrix')\n",
        "plt.show()"
      ],
      "metadata": {
        "id": "6ebPV7DiNRxC"
      },
      "execution_count": null,
      "outputs": []
    },
    {
      "cell_type": "markdown",
      "source": [
        "#**Statistics on Categorical Columns**\n",
        "\n",
        "\n"
      ],
      "metadata": {
        "id": "U3Y-hZbMCtiw"
      }
    },
    {
      "cell_type": "code",
      "source": [
        "#Statistics on Values against Categorical Columns\n",
        "print(\"Statistics on Values against Categorical Columns\")\n",
        "grouped = df.groupby(['MTH','MODE'])['AMOUNT'].sum().reset_index()\n",
        "grouped.sort_values('AMOUNT',ascending=False,inplace=True)\n",
        "grouped['AMOUNT_CR']=grouped['AMOUNT']/1e8\n",
        "# Create a pivot table\n",
        "pivot_table = grouped.pivot(index='MTH', columns='MODE', values='AMOUNT_CR')\n",
        "# Reorder the pivot table based on the desired order\n",
        "pivot_table = pivot_table.reindex(columns=mode_order)\n",
        "# Create the stacked bar chart\n",
        "pivot_table.plot(kind='bar', stacked=True, color=mode_colors)\n",
        "# Add label and Title\n",
        "plt.title('Stacked Bar Chart of Amount by Mode and Month')\n",
        "plt.xlabel('MONTH')\n",
        "plt.ylabel('Amount (in Cr. of Rs.)')\n",
        "plt.grid(False)\n",
        "plt.show()"
      ],
      "metadata": {
        "id": "w6SyjzKFJdr4"
      },
      "execution_count": null,
      "outputs": []
    },
    {
      "cell_type": "code",
      "source": [
        "# Statistics on values against States\n",
        "categorical_columns={'START_STATE','DEST_STATE'}\n",
        "for column in categorical_columns:\n",
        "    grouped = df.groupby([column,'MODE'])['AMOUNT'].sum().reset_index()\n",
        "    grouped[column]=grouped[column].replace(['THE DADRA AND NAGAR HAVELI AND DAMAN AND DIU','ANDAMAN AND NICOBAR ISLANDS'],['DADRA,N H& DIU','A&N ISLANDS'])\n",
        "    grouped['AMOUNT_CR']=grouped['AMOUNT']/1e8\n",
        "    # Create a pivot table\n",
        "    pivot_table = grouped.pivot(index=column, columns='MODE', values='AMOUNT_CR')\n",
        "    # Reorder the pivot table based on the desired order\n",
        "    pivot_table = pivot_table.reindex(columns=mode_order)\n",
        "    # Sort pivot table by total Amount in Ascending order\n",
        "    pivot_table['Total'] = pivot_table.sum(axis=1)\n",
        "    pivot_table = pivot_table.sort_values(by='Total', ascending=True)\n",
        "    # Drop the 'Total' column after sorting\n",
        "    pivot_table = pivot_table.drop(columns='Total')\n",
        "    # Create the stacked bar chart\n",
        "    pivot_table.plot(kind='barh', stacked=True, color=mode_colors)\n",
        "    # Add label and Title\n",
        "    plt.title('Stacked Bar Chart of Amount by Mode and '+ column)\n",
        "    plt.title(column)\n",
        "    plt.xlabel('State')\n",
        "    plt.xlabel('Amount (in Cr. of Rs.)')\n",
        "    plt.grid(False)\n",
        "    plt.show()"
      ],
      "metadata": {
        "id": "ZgH8KDbSGtKS"
      },
      "execution_count": null,
      "outputs": []
    },
    {
      "cell_type": "code",
      "source": [
        "# Statistics on values against State Pairs\n",
        "n=25\n",
        "\n",
        "\n",
        "grouped_state_pair = df.groupby(['START_STATE','DEST_STATE','MODE'])['AMOUNT'].sum().reset_index()\n",
        "grouped_state_pair['START_STATE']=grouped_state_pair['START_STATE'].replace(['THE DADRA AND NAGAR HAVELI AND DAMAN AND DIU','ANDAMAN AND NICOBAR ISLANDS'],['DADRA,N H& DIU','A&N ISLANDS'])\n",
        "grouped_state_pair['DEST_STATE']=grouped_state_pair['DEST_STATE'].replace(['THE DADRA AND NAGAR HAVELI AND DAMAN AND DIU','ANDAMAN AND NICOBAR ISLANDS'],['DADRA,N H& DIU','A&N ISLANDS'])\n",
        "grouped_state_pair['STATEPAIR']=grouped_state_pair['START_STATE']+'-'+ grouped_state_pair['DEST_STATE']\n",
        "grouped_state_pair['AMOUNT_CR']=grouped_state_pair['AMOUNT']/1e8\n",
        "grouped_state_pair = grouped_state_pair.drop(columns='START_STATE')\n",
        "grouped_state_pair = grouped_state_pair.drop(columns='DEST_STATE')\n",
        "# Get the top n records\n",
        "top_state_pair = grouped_state_pair.nlargest(n, 'AMOUNT_CR')\n",
        "top_state_pair.sort_values('AMOUNT_CR',inplace=True)\n",
        "\n",
        "top_state_pair.sort_values('AMOUNT_CR',inplace=True)\n",
        "\n",
        "#print(f\"\\nTop {n} State Pair\")\n",
        "#print(top_state_pair)\n",
        "# Create a pivot table\n",
        "pivot_table = top_state_pair.pivot(index='STATEPAIR', columns='MODE', values='AMOUNT_CR')\n",
        "# Reorder the pivot table based on the desired order\n",
        "pivot_table = pivot_table.reindex(columns=mode_order)\n",
        "# Sort pivot table by total Amount in Ascending order\n",
        "pivot_table['Total'] = pivot_table.sum(axis=1)\n",
        "pivot_table = pivot_table.sort_values(by='Total', ascending=True)\n",
        "# Drop the 'Total' column after sorting\n",
        "pivot_table = pivot_table.drop(columns='Total')\n",
        "# Create the stacked bar chart\n",
        "pivot_table.plot(kind='barh', stacked=True, color=mode_colors)\n",
        "\n",
        "# Add label and Title\n",
        "plt.title('OD State Pair wise Value of Movement')\n",
        "plt.xlabel('State Pair')\n",
        "plt.xlabel('Amount (in Cr. of Rs.)')\n",
        "plt.grid(False)\n",
        "plt.show()"
      ],
      "metadata": {
        "id": "0kznXkSYHnPl"
      },
      "execution_count": null,
      "outputs": []
    },
    {
      "cell_type": "code",
      "source": [
        "# Statistics on values against categorical columns\n",
        "categorical_columns={'MODE'}\n",
        "df1=df.groupby(['MODE']).sum('AMOUNT')\n",
        "df1.plot(kind='pie',y='AMOUNT', autopct='%1.0f%%')\n",
        "plt.title('Distribution of Amount by Mode')\n",
        "plt.show()"
      ],
      "metadata": {
        "id": "a0K3ScyGtYdx"
      },
      "execution_count": null,
      "outputs": []
    },
    {
      "cell_type": "code",
      "source": [
        "#Distance Slab wise Value of Loading\n",
        "\n",
        "grouped_dist_slab= df.groupby(['DISTANCERANGE','MODE'])['AMOUNT'].sum().reset_index()\n",
        "grouped_dist_slab['AMOUNT_CR']=grouped_dist_slab['AMOUNT']/1e8\n",
        "grouped_dist_slab['SLAB'] = grouped_dist_slab['DISTANCERANGE'].apply(categorize_distance)\n",
        "grouped_dist_slab.sort_values(by='SLAB', ascending=False, inplace=True)\n",
        "\n",
        "# Create a pivot table\n",
        "pivot_table = grouped_dist_slab.pivot(index='SLAB', columns='MODE', values='AMOUNT_CR')\n",
        "pivot_table = pivot_table.sort_values(by='SLAB', ascending=False)\n",
        "\n",
        "# Create the stacked bar chart\n",
        "#plt.figure(figsize=(20, 12))  # Width: 8 inches, Height: 10 inches\n",
        "pivot_table.plot(kind='barh', stacked=True, color=mode_colors)\n",
        "plt.title('Distance Slab wise Value of Movement')\n",
        "plt.xlabel('Amount (Cr. of Rs.)')\n",
        "plt.ylabel('Distance Slab')\n",
        "plt.grid(False)\n",
        "plt.show()"
      ],
      "metadata": {
        "id": "YwsiFjlcVy8L"
      },
      "execution_count": null,
      "outputs": []
    },
    {
      "cell_type": "code",
      "source": [
        "#Top 20 Items (HSN Chapter) with highest value of Loading\n",
        "n = 20\n",
        "grouped_hsn = df.groupby(['HSN_CHAPTER','MODE'])['AMOUNT'].sum().reset_index()\n",
        "grouped_hsn['AMOUNT_CR']=grouped_hsn['AMOUNT']/1e8\n",
        "# Get the top n records\n",
        "top_hsn = grouped_hsn.nlargest(n, 'AMOUNT_CR')\n",
        "top_hsn=pd.merge(top_hsn, df_hsn, how='left', left_on=['HSN_CHAPTER'], right_on=['HSN_CODE'])\n",
        "top_hsn['ITEM']=top_hsn['HSN_CHAPTER'] + '-' + top_hsn['HSN_DESC']\n",
        "top_hsn.drop(columns=['HSN_CODE','HSN_LONGDESC','AMOUNT','HSN_CHAPTER','HSN_DESC'],inplace=True)\n",
        "top_hsn.sort_values('AMOUNT_CR',inplace=True)\n",
        "\n",
        "# Create a pivot table\n",
        "pivot_table = top_hsn.pivot(index='ITEM', columns='MODE', values='AMOUNT_CR')\n",
        "# Reorder the pivot table based on the desired order\n",
        "pivot_table = pivot_table.reindex(columns=mode_order)\n",
        "# Sort pivot table by total Amount in Ascending order\n",
        "pivot_table['Total'] = pivot_table.sum(axis=1)\n",
        "pivot_table = pivot_table.sort_values(by='Total', ascending=True)\n",
        "# Drop the 'Total' column after sorting\n",
        "pivot_table = pivot_table.drop(columns='Total')\n",
        "plt.figure(figsize=(20, 12))  # Width: 8 inches, Height: 10 inches\n",
        "# Create the stacked bar chart\n",
        "pivot_table.plot(kind='barh', stacked=True, color=mode_colors)\n",
        "\n",
        "\n",
        "#plt.figure(figsize=(8, 12))  # Width: 8 inches, Height: 10 inches\n",
        "plt.title('Top 20 Item (HSN Chapter)')\n",
        "plt.xlabel('Amount (Cr. of Rs.)')\n",
        "plt.ylabel('HSN Chapter')\n",
        "plt.grid(False)\n",
        "plt.show()\n"
      ],
      "metadata": {
        "id": "BvLj_VMrPgyM"
      },
      "execution_count": null,
      "outputs": []
    },
    {
      "cell_type": "code",
      "source": [
        "#Top 20 Originating PIN with highest value of Loading\n",
        "n = 20\n",
        "grouped_start_pin = df.groupby(['START_PIN','MODE'])['AMOUNT'].sum().reset_index()\n",
        "grouped_start_pin['AMOUNT_CR']=grouped_start_pin['AMOUNT']/1e8\n",
        "# Get the top n records\n",
        "top_start_pin = grouped_start_pin.nlargest(n, 'AMOUNT_CR')\n",
        "top_start_pin.sort_values('AMOUNT_CR',inplace=True)\n",
        "\n",
        "# Create a pivot table\n",
        "pivot_table = top_start_pin.pivot(index='START_PIN', columns='MODE', values='AMOUNT_CR')\n",
        "# Reorder the pivot table based on the desired order\n",
        "pivot_table = pivot_table.reindex(columns=mode_order)\n",
        "# Sort pivot table by total Amount in Ascending order\n",
        "pivot_table['Total'] = pivot_table.sum(axis=1)\n",
        "pivot_table = pivot_table.sort_values(by='Total', ascending=True)\n",
        "# Drop the 'Total' column after sorting\n",
        "pivot_table = pivot_table.drop(columns='Total')\n",
        "plt.figure(figsize=(20, 12))  # Width: 8 inches, Height: 10 inches\n",
        "# Create the stacked bar chart\n",
        "pivot_table.plot(kind='barh', stacked=True, color=mode_colors)\n",
        "\n",
        "\n",
        "plt.title('Top 20 Originating PIN')\n",
        "plt.xlabel('Amount (Cr. of Rs.)')\n",
        "plt.ylabel('PIN')\n",
        "plt.grid(False)\n",
        "plt.show()"
      ],
      "metadata": {
        "id": "eKdsWIg4NGRq"
      },
      "execution_count": null,
      "outputs": []
    },
    {
      "cell_type": "code",
      "source": [
        "#Top 20 Districts with highest value of Loading\n",
        "n = 20\n",
        "grouped_start_district = df.groupby(['START_DISTRICT','MODE'])['AMOUNT'].sum().reset_index()\n",
        "grouped_start_district['AMOUNT_CR']=grouped_start_district['AMOUNT']/1e8\n",
        "# Get the top n records\n",
        "top_start_district = grouped_start_district.nlargest(n, 'AMOUNT_CR')\n",
        "top_start_district.sort_values('AMOUNT_CR',inplace=True)\n",
        "\n",
        "# Create a pivot table\n",
        "pivot_table = top_start_district.pivot(index='START_DISTRICT', columns='MODE', values='AMOUNT_CR')\n",
        "# Reorder the pivot table based on the desired order\n",
        "pivot_table = pivot_table.reindex(columns=mode_order)\n",
        "# Sort pivot table by total Amount in Ascending order\n",
        "pivot_table['Total'] = pivot_table.sum(axis=1)\n",
        "pivot_table = pivot_table.sort_values(by='Total', ascending=True)\n",
        "# Drop the 'Total' column after sorting\n",
        "pivot_table = pivot_table.drop(columns='Total')\n",
        "plt.figure(figsize=(20, 12))  # Width: 8 inches, Height: 10 inches\n",
        "# Create the stacked bar chart\n",
        "pivot_table.plot(kind='barh', stacked=True, color=mode_colors)\n",
        "\n",
        "plt.title('Top 20 Originating District')\n",
        "plt.xlabel('Amount (Cr. of Rs.)')\n",
        "plt.ylabel('District')\n",
        "plt.grid(False)\n",
        "plt.show()"
      ],
      "metadata": {
        "id": "_M56v0w5jQTR"
      },
      "execution_count": null,
      "outputs": []
    },
    {
      "cell_type": "code",
      "source": [
        "#Top 20 Destination Pin with highest value of Loading\n",
        "n = 20\n",
        "grouped_dest_pin = df.groupby(['DEST_PIN','MODE'])['AMOUNT'].sum().reset_index()\n",
        "grouped_dest_pin['AMOUNT_CR']=grouped_dest_pin['AMOUNT']/1e8\n",
        "# Get the top n records\n",
        "top_dest_pin = grouped_dest_pin.nlargest(n, 'AMOUNT_CR')\n",
        "top_dest_pin.sort_values('AMOUNT_CR',inplace=True)\n",
        "\n",
        "# Create a pivot table\n",
        "pivot_table = top_dest_pin.pivot(index='DEST_PIN', columns='MODE', values='AMOUNT_CR')\n",
        "# Reorder the pivot table based on the desired order\n",
        "pivot_table = pivot_table.reindex(columns=mode_order)\n",
        "# Sort pivot table by total Amount in Ascending order\n",
        "pivot_table['Total'] = pivot_table.sum(axis=1)\n",
        "pivot_table = pivot_table.sort_values(by='Total', ascending=True)\n",
        "# Drop the 'Total' column after sorting\n",
        "pivot_table = pivot_table.drop(columns='Total')\n",
        "plt.figure(figsize=(20, 12))  # Width: 8 inches, Height: 10 inches\n",
        "# Create the stacked bar chart\n",
        "pivot_table.plot(kind='barh', stacked=True, color=mode_colors)\n",
        "\n",
        "plt.title('Top 20 Destination PIN')\n",
        "plt.xlabel('Amount (Cr. of Rs.)')\n",
        "plt.ylabel('PIN')\n",
        "plt.grid(False)\n",
        "plt.show()"
      ],
      "metadata": {
        "id": "0EAy1N9jjg2z"
      },
      "execution_count": null,
      "outputs": []
    },
    {
      "cell_type": "code",
      "source": [
        "#Top 20 Districts with highest value of UnLoading\n",
        "n = 20\n",
        "grouped_dest_district = df.groupby(['DEST_DISTRICT','MODE'])['AMOUNT'].sum().reset_index()\n",
        "grouped_dest_district['AMOUNT_CR']=grouped_dest_district['AMOUNT']/1e8\n",
        "# Get the top n records\n",
        "top_dest_district = grouped_dest_district.nlargest(n, 'AMOUNT_CR')\n",
        "top_dest_district.sort_values('AMOUNT_CR',inplace=True)\n",
        "\n",
        "# Create a pivot table\n",
        "pivot_table = top_dest_district.pivot(index='DEST_DISTRICT', columns='MODE', values='AMOUNT_CR')\n",
        "# Reorder the pivot table based on the desired order\n",
        "pivot_table = pivot_table.reindex(columns=mode_order)\n",
        "# Sort pivot table by total Amount in Ascending order\n",
        "pivot_table['Total'] = pivot_table.sum(axis=1)\n",
        "pivot_table = pivot_table.sort_values(by='Total', ascending=True)\n",
        "# Drop the 'Total' column after sorting\n",
        "pivot_table = pivot_table.drop(columns='Total')\n",
        "plt.figure(figsize=(20, 12))  # Width: 8 inches, Height: 10 inches\n",
        "# Create the stacked bar chart\n",
        "pivot_table.plot(kind='barh', stacked=True, color=mode_colors)\n",
        "\n",
        "plt.title('Top 20 Destination District')\n",
        "plt.xlabel('Amount (Cr. of Rs.)')\n",
        "plt.ylabel('District')\n",
        "plt.grid(False)\n",
        "plt.show()"
      ],
      "metadata": {
        "id": "aQ9ymk7VRjuO"
      },
      "execution_count": null,
      "outputs": []
    },
    {
      "cell_type": "code",
      "source": [
        "#Top 5 OD-Pair with highest value of Loading\n",
        "n = 5\n",
        "\n",
        "grouped_od_pair = df.groupby(['START_DISTRICT','DEST_DISTRICT','MODE'])['AMOUNT'].sum().reset_index()\n",
        "grouped_od_pair['AMOUNT_CR']=grouped_od_pair['AMOUNT']/1e8\n",
        "# Get the top n records\n",
        "top_od_pair = grouped_od_pair.nlargest(n, 'AMOUNT_CR')\n",
        "top_od_pair.sort_values('AMOUNT_CR',inplace=True)\n",
        "top_od_pair['ODPAIR']=top_od_pair['START_DISTRICT']+'-'+ top_od_pair['DEST_DISTRICT']\n",
        "\n",
        "# Create a pivot table\n",
        "pivot_table = top_od_pair.pivot(index='ODPAIR', columns='MODE', values='AMOUNT_CR')\n",
        "# Reorder the pivot table based on the desired order\n",
        "pivot_table = pivot_table.reindex(columns=mode_order)\n",
        "# Sort pivot table by total Amount in Ascending order\n",
        "pivot_table['Total'] = pivot_table.sum(axis=1)\n",
        "pivot_table = pivot_table.sort_values(by='Total', ascending=True)\n",
        "# Drop the 'Total' column after sorting\n",
        "pivot_table = pivot_table.drop(columns='Total')\n",
        "plt.figure(figsize=(20, 12))  # Width: 8 inches, Height: 10 inches\n",
        "# Create the stacked bar chart\n",
        "pivot_table.plot(kind='barh', stacked=True, color=mode_colors)\n",
        "\n",
        "plt.title('Top 20 Origin-Destination District Pair by Total Amount')\n",
        "plt.xlabel('Amount (Cr. of Rs.)')\n",
        "plt.ylabel('District')\n",
        "plt.grid(False)\n",
        "plt.show()\n"
      ],
      "metadata": {
        "id": "L8GFgERCR-kC"
      },
      "execution_count": null,
      "outputs": []
    },
    {
      "cell_type": "code",
      "source": [
        "maxhsn=3\n",
        "for ind in top_od_pair.index:\n",
        "    #print(top_od_pair['START_DISTRICT'][ind], top_od_pair['DEST_DISTRICT'][ind])\n",
        "    df_filtered=df[(df['START_DISTRICT']==top_od_pair['START_DISTRICT'][ind]) & (df['DEST_DISTRICT']==top_od_pair['DEST_DISTRICT'][ind])]\n",
        "\n",
        "    grouped_hsn = df_filtered.groupby(['HSN_CHAPTER','MODE'])['AMOUNT'].sum().reset_index()\n",
        "    grouped_hsn['AMOUNT_CR']=grouped_hsn['AMOUNT']/1e8\n",
        "\n",
        "\n",
        "    # Get the top n records\n",
        "    n = min(maxhsn,len(grouped_hsn)) # Ensure n is not greater than the number of unique HSN\n",
        "    top_hsn = grouped_hsn.nlargest(n, 'AMOUNT_CR')\n",
        "\n",
        "    top_hsn=pd.merge(top_hsn, df_hsn, how='left', left_on=['HSN_CHAPTER'], right_on=['HSN_CODE'])\n",
        "    top_hsn['ITEM']=top_hsn['HSN_CHAPTER'] + '-' + top_hsn['HSN_DESC']\n",
        "    top_hsn.drop(columns=['HSN_CODE','HSN_LONGDESC','AMOUNT','HSN_CHAPTER','HSN_DESC'],inplace=True)\n",
        "    top_hsn.sort_values('AMOUNT_CR',inplace=True)\n",
        "    # Create a pivot table\n",
        "    pivot_table = top_hsn.pivot(index='ITEM', columns='MODE', values='AMOUNT_CR')\n",
        "    # Reorder the pivot table based on the desired order\n",
        "    pivot_table = pivot_table.reindex(columns=mode_order)\n",
        "    # Sort pivot table by total Amount in Ascending order\n",
        "    pivot_table['Total'] = pivot_table.sum(axis=1)\n",
        "    pivot_table = pivot_table.sort_values(by='Total', ascending=True)\n",
        "    # Drop the 'Total' column after sorting\n",
        "    pivot_table = pivot_table.drop(columns='Total')\n",
        "    # Create the stacked bar chart\n",
        "    pivot_table.plot(kind='barh', stacked=True, color=mode_colors)\n",
        "\n",
        "    plt.title('Top 3 HSN loaded for OD-Pair   ' + top_od_pair['ODPAIR'][ind] )\n",
        "    plt.xlabel('Amount (Cr. of Rs.)')\n",
        "    # Wrap the y-axis labels\n",
        "    #plt.yticks([textwrap.fill(label, width=20) for label in top_hsn['HSNDTL']])\n",
        "    plt.ylabel('HSN')\n",
        "    plt.grid(False)\n",
        "    plt.show()"
      ],
      "metadata": {
        "id": "x70BVhoKlnj5"
      },
      "execution_count": null,
      "outputs": []
    },
    {
      "cell_type": "code",
      "source": [
        "ind=0\n",
        "#Top 5 Districts with highest value of Loading\n",
        "n_orig=5\n",
        "n_dest = 4\n",
        "grouped_start_district = df.groupby(['START_DISTRICT'])['AMOUNT'].sum().reset_index()\n",
        "grouped_start_district['AMOUNT_CR']=grouped_start_district['AMOUNT']/1e8\n",
        "# Get the top n records\n",
        "top_start_district = grouped_start_district.nlargest(n_orig, 'AMOUNT_CR')\n",
        "top_start_district.sort_values('AMOUNT_CR',inplace=True, ascending=False)\n",
        "for ind in range(0,n_orig) :\n",
        "  start_district=top_start_district.iloc[ind,0]\n",
        "  df_filtered=df[(df['START_DISTRICT']==start_district) & (df['DISTANCE']> 1000) & (df['MODE']== 'Road')]\n",
        "  df_filtered=df_filtered[df_filtered['HSN'].apply(lambda x:len(x) == 4)]\n",
        "\n",
        "  grouped_dest = df_filtered.groupby(['DEST_DISTRICT', 'HSN'])['AMOUNT'].sum().reset_index()\n",
        "  grouped_dest['HSN_CHAPTER']=grouped_dest['HSN'].str[0:2]\n",
        "  grouped_dest['AMOUNT_CR']=grouped_dest['AMOUNT']/1e8\n",
        "\n",
        "\n",
        "  # Get the top n records\n",
        "  top_dest = grouped_dest.nlargest(n_dest, 'AMOUNT_CR')\n",
        "  top_dest=pd.merge(top_dest, df_hsn, how='left', left_on=['HSN_CHAPTER'], right_on=['HSN_CODE'])\n",
        "  top_dest['ITEM']=top_dest['HSN_CHAPTER'] + '-' + top_dest['HSN_DESC']\n",
        "  top_dest.drop(columns=['HSN_CODE','HSN_LONGDESC','AMOUNT','HSN_CHAPTER','HSN_DESC'],inplace=True)\n",
        "  top_dest.sort_values('AMOUNT_CR',inplace=True)\n",
        "\n",
        "  # Create a pivot table\n",
        "  pivot_table = top_dest.pivot(index='DEST_DISTRICT', columns= 'ITEM', values='AMOUNT_CR')\n",
        "  # Reorder the pivot table based on the desired order\n",
        "  #pivot_table = pivot_table.reindex(columns=['ITEM'])\n",
        "  #Sort pivot table by total Amount in Ascending order\n",
        "  pivot_table['Total'] = pivot_table.sum(axis=1)\n",
        "  pivot_table = pivot_table.sort_values(by='Total', ascending=True)\n",
        "  # Drop the 'Total' column after sorting\n",
        "  pivot_table = pivot_table.drop(columns='Total')\n",
        "  plt.figure(figsize=(20, 12))  # Width: 8 inches, Height: 10 inches\n",
        "  # Create the stacked bar chart\n",
        "  pivot_table.plot(kind='barh', stacked=True)\n",
        "\n",
        "  plt.title('HSN Chapter wise Destination For Starting District (' + str(ind) + ') : ' + start_district)\n",
        "  plt.xlabel('Amount (Cr. of Rs.)')\n",
        "  plt.ylabel('Destination District')\n",
        "  plt.grid(False)\n",
        "  plt.show()\n"
      ],
      "metadata": {
        "id": "ZpOKEcaVs-WM"
      },
      "execution_count": null,
      "outputs": []
    }
  ]
}